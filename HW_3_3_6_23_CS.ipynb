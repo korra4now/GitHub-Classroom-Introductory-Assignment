{
  "nbformat": 4,
  "nbformat_minor": 0,
  "metadata": {
    "colab": {
      "provenance": [],
      "authorship_tag": "ABX9TyNkuOaFGC7gStBUkRvR/dl0",
      "include_colab_link": true
    },
    "kernelspec": {
      "name": "python3",
      "display_name": "Python 3"
    },
    "language_info": {
      "name": "python"
    }
  },
  "cells": [
    {
      "cell_type": "markdown",
      "metadata": {
        "id": "view-in-github",
        "colab_type": "text"
      },
      "source": [
        "<a href=\"https://colab.research.google.com/github/korra4now/GitHub-Classroom-Introductory-Assignment/blob/main/HW_3_3_6_23_CS.ipynb\" target=\"_parent\"><img src=\"https://colab.research.google.com/assets/colab-badge.svg\" alt=\"Open In Colab\"/></a>"
      ]
    },
    {
      "cell_type": "code",
      "execution_count": null,
      "metadata": {
        "id": "pn-iJtMZWJfJ"
      },
      "outputs": [],
      "source": [
        "#Task 1 \n",
        "#Q 1: What is the maximum intensity? 255\n",
        "#Q 2: 314x266 8-bit\n",
        "#Q 3: DiffInt\n",
        "#Task 3\n",
        "#Q 1: 2374\n",
        "\n"
      ]
    },
    {
      "cell_type": "code",
      "source": [
        "import pandas as pd\n",
        "import numpy as np\n",
        "import seaborn as sns"
      ],
      "metadata": {
        "id": "vF8vpk32v0aB"
      },
      "execution_count": null,
      "outputs": []
    },
    {
      "cell_type": "code",
      "source": [
        "measurements = pd.read_csv('Results.csv')\n",
        "\t\n",
        "sns.distplot(measurements['Area'])\n"
      ],
      "metadata": {
        "colab": {
          "base_uri": "https://localhost:8080/",
          "height": 351
        },
        "id": "KBRAjVR4v35J",
        "outputId": "336cbf56-a2e4-42ff-dfd9-f23a17b406b7"
      },
      "execution_count": 19,
      "outputs": [
        {
          "output_type": "stream",
          "name": "stderr",
          "text": [
            "/usr/local/lib/python3.8/dist-packages/seaborn/distributions.py:2619: FutureWarning: `distplot` is a deprecated function and will be removed in a future version. Please adapt your code to use either `displot` (a figure-level function with similar flexibility) or `histplot` (an axes-level function for histograms).\n",
            "  warnings.warn(msg, FutureWarning)\n"
          ]
        },
        {
          "output_type": "execute_result",
          "data": {
            "text/plain": [
              "<AxesSubplot:xlabel='Area', ylabel='Density'>"
            ]
          },
          "metadata": {},
          "execution_count": 19
        },
        {
          "output_type": "display_data",
          "data": {
            "text/plain": [
              "<Figure size 432x288 with 1 Axes>"
            ],
            "image/png": "[encoded data removed]"
          },
          "metadata": {
            "needs_background": "light"
          }
        }
      ]
    },
    {
      "cell_type": "code",
      "source": [
        "#mean\n",
        "measuremean=measurements['Area'].mean()\n",
        "print(measuremean)"
      ],
      "metadata": {
        "id": "sXT6JmBRv37J",
        "colab": {
          "base_uri": "https://localhost:8080/"
        },
        "outputId": "ddcef415-c6e4-4910-b057-27fb65a72013"
      },
      "execution_count": 24,
      "outputs": [
        {
          "output_type": "stream",
          "name": "stdout",
          "text": [
            "336.9338668913227\n"
          ]
        }
      ]
    },
    {
      "cell_type": "code",
      "source": [
        "#standard deviation \n",
        "measurestd=measurements['Area'].std()\n",
        "print(measurestd)"
      ],
      "metadata": {
        "id": "-w92MFsBv39L",
        "colab": {
          "base_uri": "https://localhost:8080/"
        },
        "outputId": "9735a16d-8134-486f-9524-b121ca6fc44a"
      },
      "execution_count": 27,
      "outputs": [
        {
          "output_type": "stream",
          "name": "stdout",
          "text": [
            "76.33185089504094\n"
          ]
        }
      ]
    },
    {
      "cell_type": "code",
      "source": [
        "#I may increase the threshold a bit because it looks like we're missing some data points on the higher end with some more, what I'm assuming is, insignificant data points on the lower end. So yes, I would adjust the value ranges a bit to get a fuller picture. And with SD, it looks like the lower end data is not necessary and skewing that number. "
      ],
      "metadata": {
        "id": "oxxtAahDv4An"
      },
      "execution_count": null,
      "outputs": []
    }
  ]
}